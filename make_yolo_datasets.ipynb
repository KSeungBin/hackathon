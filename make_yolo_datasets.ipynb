{
 "cells": [
  {
   "cell_type": "code",
   "execution_count": null,
   "metadata": {},
   "outputs": [],
   "source": [
    "import os\n",
    "import cv2\n",
    "import numpy as np\n",
    "import json\n",
    "import pickle\n",
    "import shutil\n",
    "from tqdm import tqdm\n",
    "from glob import glob"
   ]
  },
  {
   "cell_type": "code",
   "execution_count": null,
   "metadata": {},
   "outputs": [],
   "source": [
    "PATH_ALL = ['../선박·해양플랜트/모재/불량품/','../자동차/도어/불량품/','../자동차/휀더/불량품/','../자동차/범퍼/불량품/']\n",
    "SIZE = 640"
   ]
  },
  {
   "cell_type": "code",
   "execution_count": null,
   "metadata": {},
   "outputs": [],
   "source": [
    "for PATH in PATH_ALL:\n",
    "    file_list = glob(PATH+'*.*')\n",
    "    for file_path in tqdm(file_list):\n",
    "        file_name = file_path.split('/')[-1]\n",
    "        if file_name.split('.')[-1].lower() in ['jpg', 'jpeg', 'png']:\n",
    "            json_name = file_name.split('.')[0]+\".json\"\n",
    "            with open(PATH+json_name, \"r\",encoding='utf-8-sig') as f:\n",
    "                tmp = json.load(f)\n",
    "            WIDTH = tmp['images'][0]['width']\n",
    "            HEIGHT = tmp['images'][0]['height']\n",
    "            \n",
    "            annotations_data = tmp['annotations']      \n",
    "            if len(annotations_data) ==0: continue\n",
    "            for annotation in annotations_data:\n",
    "                x, y, w, h = annotation['bbox']    \n",
    "                x, y, w, h = x/WIDTH, y/HEIGHT, w/WIDTH, h/HEIGHT\n",
    "                with open('./datasets/export/labels/'+file_name.split('.')[0]+'.txt', 'a') as f:\n",
    "                    f.write(f\"0 {x} {y} {w} {h}\\n\")\n",
    "            img = cv2.imread(file_path)\n",
    "            img_resize = cv2.resize(img, (SIZE,SIZE))\n",
    "            cv2.imwrite('./datasets/export/images/'+file_name,img_resize)\n",
    "            # shutil.copy(file_path,'./datasets/images/'+file_name)       "
   ]
  }
 ],
 "metadata": {
  "kernelspec": {
   "display_name": "Python 3.9.10 ('base')",
   "language": "python",
   "name": "python3"
  },
  "language_info": {
   "name": "python",
   "version": "3.9.10"
  },
  "orig_nbformat": 4,
  "vscode": {
   "interpreter": {
    "hash": "900057b023b5ce44058c8c58dc34b5b442c7c12c681212cd6c3341775c6bcb10"
   }
  }
 },
 "nbformat": 4,
 "nbformat_minor": 2
}
