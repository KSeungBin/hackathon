{
 "cells": [
  {
   "cell_type": "markdown",
   "metadata": {},
   "source": [
    "학습된 YOLO v5 모델 Inference\n",
    "- inference 함수에 weight 경로와 분석대상 img 경로 입력"
   ]
  },
  {
   "cell_type": "code",
   "execution_count": null,
   "metadata": {},
   "outputs": [],
   "source": [
    "from detect import run\n",
    "import cv2\n",
    "from glob import glob\n",
    "import matplotlib.pyplot as plt\n",
    "import os"
   ]
  },
  {
   "cell_type": "code",
   "execution_count": null,
   "metadata": {},
   "outputs": [],
   "source": [
    "weight_path = \"./runs/train/gun_yolov5l_640_results2/weights/best.pt\"\n",
    "def inference(weight_path, img_path):\n",
    "    pred = run(weights=weight_path, source=img_path, conf_thres=0.25)\n",
    "    return pred"
   ]
  },
  {
   "cell_type": "code",
   "execution_count": null,
   "metadata": {},
   "outputs": [],
   "source": [
    "def output(img_path):\n",
    "    pred = inference(weight_path=weight_path, img_path=img_path)\n",
    "    x, y, w, h, conf, class_num = pred[0][0]\n",
    "    x = int(x.item())\n",
    "    y = int(y.item())\n",
    "    w = int(w.item())\n",
    "    h = int(h.item())\n",
    "    conf = conf.item()\n",
    "    img = cv2.imread(img_path)\n",
    "    cv2.rectangle(img, (x, y), (x+w, y+h), (255,0,0), 5)\n",
    "    img = cv2.resize(img, (640,640))\n",
    "    cv2.imshow('img', img)\n",
    "    cv2.waitKey()\n",
    "    cv2.destroyAllWindows()"
   ]
  },
  {
   "cell_type": "code",
   "execution_count": null,
   "metadata": {},
   "outputs": [],
   "source": [
    "file_list = os.listdir(\"./for_pre\")\n",
    "for idx, name in enumerate(file_list):\n",
    "    try:\n",
    "        output('./for_pre/'+name)\n",
    "    except Exception as e:\n",
    "        print(e)\n",
    "    if idx == 10:break"
   ]
  },
  {
   "cell_type": "code",
   "execution_count": null,
   "metadata": {},
   "outputs": [],
   "source": [
    "img.shape"
   ]
  },
  {
   "cell_type": "code",
   "execution_count": null,
   "metadata": {},
   "outputs": [],
   "source": [
    "plt.imshow(img)"
   ]
  }
 ],
 "metadata": {
  "language_info": {
   "name": "python"
  },
  "orig_nbformat": 4
 },
 "nbformat": 4,
 "nbformat_minor": 2
}
