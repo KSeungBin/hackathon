{
 "cells": [
  {
   "cell_type": "code",
   "execution_count": null,
   "metadata": {},
   "outputs": [],
   "source": [
    "!git clone https://github.com/ultralytics/yolov5.git"
   ]
  },
  {
   "cell_type": "code",
   "execution_count": null,
   "metadata": {},
   "outputs": [],
   "source": [
    "# %cd yolov5\n",
    "# !pip install -r requirements.txt"
   ]
  },
  {
   "cell_type": "code",
   "execution_count": null,
   "metadata": {},
   "outputs": [],
   "source": [
    "# %cat ../datasets/data.yaml"
   ]
  },
  {
   "cell_type": "code",
   "execution_count": null,
   "metadata": {},
   "outputs": [],
   "source": [
    "%cd yolov5"
   ]
  },
  {
   "cell_type": "code",
   "execution_count": null,
   "metadata": {},
   "outputs": [],
   "source": [
    "from glob import glob\n",
    "img_list = glob(\"/home/ubuntu/competitions/hackathon/yolov5/datasets/export/images/*.*\")"
   ]
  },
  {
   "cell_type": "code",
   "execution_count": null,
   "metadata": {},
   "outputs": [],
   "source": [
    "from sklearn.model_selection import train_test_split\n",
    "train_img_list, val_img_list = train_test_split(img_list, test_size=0.1, shuffle=True)"
   ]
  },
  {
   "cell_type": "code",
   "execution_count": null,
   "metadata": {},
   "outputs": [],
   "source": [
    "with open('/home/ubuntu/competitions/hackathon/yolov5/datasets/train.txt', 'w') as f:\n",
    "  f.write('\\n'.join(train_img_list)+'\\n')\n",
    "with open('/home/ubuntu/competitions/hackathon/yolov5/datasets/val.txt', 'w') as f:\n",
    "  f.write('\\n'.join(val_img_list)+'\\n')"
   ]
  },
  {
   "cell_type": "code",
   "execution_count": null,
   "metadata": {},
   "outputs": [],
   "source": [
    "import yaml\n",
    "with open('/home/ubuntu/competitions/hackathon/yolov5/datasets/data.yaml', 'r') as f:\n",
    "  data = yaml.safe_load(f)\n",
    "print(data)\n",
    "data['train'] = '/home/ubuntu/competitions/hackathon/yolov5/datasets/train.txt'\n",
    "data['val'] = '/home/ubuntu/competitions/hackathon/yolov5/datasets/val.txt'\n",
    "with open('/home/ubuntu/competitions/hackathon/yolov5/datasets/data.yaml', 'w') as f:\n",
    "  yaml.dump(data,f)\n",
    "print(data)"
   ]
  },
  {
   "cell_type": "code",
   "execution_count": null,
   "metadata": {},
   "outputs": [],
   "source": [
    "%cd yolov5/\n",
    "!python train.py --img 640 --batch 128 --epochs 5000 --data /home/ubuntu/competitions/hackathon/yolov5/datasets/data.yaml --cfg ./models/yolov5s.yaml --weights yolov5s.pt"
   ]
  }
 ],
 "metadata": {
  "kernelspec": {
   "display_name": "Python 3.9.10 ('base')",
   "language": "python",
   "name": "python3"
  },
  "language_info": {
   "name": "python",
   "version": "3.9.10"
  },
  "orig_nbformat": 4,
  "vscode": {
   "interpreter": {
    "hash": "900057b023b5ce44058c8c58dc34b5b442c7c12c681212cd6c3341775c6bcb10"
   }
  }
 },
 "nbformat": 4,
 "nbformat_minor": 2
}
