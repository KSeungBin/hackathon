{
 "cells": [
  {
   "cell_type": "code",
   "execution_count": null,
   "metadata": {},
   "outputs": [],
   "source": [
    "from unet_a2c import *\n",
    "import cv2\n",
    "import numpy as np\n",
    "import os\n",
    "import torch\n",
    "from tqdm.notebook import tqdm"
   ]
  },
  {
   "cell_type": "markdown",
   "metadata": {},
   "source": [
    "# validation dataset 경로 입력\n",
    "- 한 폴더에 png, npy 파일 같이 배치"
   ]
  },
  {
   "cell_type": "code",
   "execution_count": null,
   "metadata": {},
   "outputs": [],
   "source": [
    "VALIDATION_PATH='./test_image/A2C/'\n",
    "# DEVICE = torch.device('cuda' if torch.cuda.is_available() else 'cpu')\n",
    "DEVICE = 'cpu'\n",
    "# W_SIZE = 600\n",
    "# H_SIZE = 400\n",
    "BATCH_SIZE = 1"
   ]
  },
  {
   "cell_type": "markdown",
   "metadata": {},
   "source": [
    "  # 데이터셋 준비 및 모델 로딩"
   ]
  },
  {
   "cell_type": "code",
   "execution_count": null,
   "metadata": {},
   "outputs": [],
   "source": [
    "file_list_val = os.listdir(VALIDATION_PATH)\n",
    "npy_list_val = list()\n",
    "png_list_val = list()\n",
    "\n",
    "for name in file_list_val:\n",
    "    if name[-4:]=='.png':\n",
    "        png_list_val.append(name)\n",
    "    elif name[-4:]=='.npy':\n",
    "        npy_list_val.append(name)\n",
    "\n",
    "dataset_val = list()\n",
    "for name in png_list_val:\n",
    "    common_name = name[:-4]\n",
    "    npy_obj = np.load(VALIDATION_PATH+common_name+'.npy')\n",
    "    W_SIZE,H_SIZE = npy_obj.shape\n",
    "    # npy_obj = cv2.resize(npy_obj, (W_SIZE,H_SIZE)).reshape(1,H_SIZE,W_SIZE)*255\n",
    "    npy_obj = cv2.resize(npy_obj, (W_SIZE,H_SIZE)).reshape(1,H_SIZE,W_SIZE)*255\n",
    "    png_obj = cv2.imread(VALIDATION_PATH+common_name+'.png', 0)\n",
    "    png_obj = cv2.resize(png_obj, (W_SIZE,H_SIZE)).reshape(1,H_SIZE,W_SIZE)\n",
    "    dataset_val.append((png_obj, npy_obj))\n",
    "\n",
    "test_dataset = dataset_val\n",
    "test_loader = torch.utils.data.DataLoader(\n",
    "    test_dataset,\n",
    "    batch_size=BATCH_SIZE,\n",
    "    shuffle=False,\n",
    ")\n",
    "BEST_MODEL_PATH = 'best_model_A2C.pth'\n",
    "unet = DoubleUNet(1,1).to(DEVICE)\n",
    "unet.load_state_dict(torch.load(BEST_MODEL_PATH))\n",
    "unet.eval()"
   ]
  },
  {
   "cell_type": "markdown",
   "metadata": {},
   "source": [
    "# predict validation set\n",
    "- DSC, JI 수치 출력 "
   ]
  },
  {
   "cell_type": "code",
   "execution_count": null,
   "metadata": {},
   "outputs": [],
   "source": [
    "TP_collect = list()\n",
    "LABEL_TRUE_SUM_collect = list()\n",
    "PREDICTI_TRUE_SUM_collect = list()\n",
    "outputs = list()\n",
    "for img, label in tqdm(test_loader):\n",
    "    img = img.to(DEVICE)\n",
    "    label_test = label.float().to(DEVICE)\n",
    "                \n",
    "    outputs_test,  adap_outputs, adap_label = unet(img.float(), label_test)\n",
    "    outputs.append(outputs_test)\n",
    "\n",
    "\n",
    "    # DSC = 2*TP/(2TP+FP+FN)\n",
    "    # JI = DICE/(2-DICE)       \n",
    "    outputs_test_for_grid = torch.round(unet.get_output())\n",
    "    cal_outputs_test_for_grid = outputs_test_for_grid.int()\n",
    "\n",
    "    cal_label_test = label_test.int()\n",
    "    cal_label_test = torch.round(cal_label_test/255.).int()\n",
    "    TP_collect.append(torch.sum(cal_outputs_test_for_grid & cal_label_test))\n",
    "    LABEL_TRUE_SUM_collect.append(torch.sum(cal_label_test))\n",
    "    PREDICTI_TRUE_SUM_collect.append(torch.sum(cal_outputs_test_for_grid))\n",
    "\n",
    "TP = np.sum(TP_collect)\n",
    "LABEL_TRUE_SUM = np.sum(LABEL_TRUE_SUM_collect)\n",
    "PREDICTI_TRUE_SUM = np.sum(PREDICTI_TRUE_SUM_collect)\n",
    "\n",
    "\n",
    "DSC = 2*TP/(LABEL_TRUE_SUM+PREDICTI_TRUE_SUM)\n",
    "JI = DSC/(2-DSC)\n",
    "pre_test_loss = DSC\n",
    "\n",
    "print(' Best A2C DSC:',DSC.item(), 'JI: ', JI.item())"
   ]
  }
 ],
 "metadata": {
  "kernelspec": {
   "display_name": "Python 3.9.10 ('base')",
   "language": "python",
   "name": "python3"
  },
  "language_info": {
   "name": "python",
   "version": "3.9.10"
  },
  "orig_nbformat": 4,
  "vscode": {
   "interpreter": {
    "hash": "900057b023b5ce44058c8c58dc34b5b442c7c12c681212cd6c3341775c6bcb10"
   }
  }
 },
 "nbformat": 4,
 "nbformat_minor": 2
}
